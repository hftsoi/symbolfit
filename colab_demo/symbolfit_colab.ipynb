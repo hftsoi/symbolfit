{
 "cells": [
  {
   "cell_type": "markdown",
   "id": "73bbc540-4d98-4f3e-9d75-a2c258a064c3",
   "metadata": {},
   "source": [
    "# Environment setup"
   ]
  },
  {
   "cell_type": "markdown",
   "id": "81ea6b1c-aab6-4c39-92db-88ea501b22b7",
   "metadata": {},
   "source": [
    "Install symbolfit via pip:"
   ]
  },
  {
   "cell_type": "code",
   "execution_count": null,
   "id": "098d09a1-5094-4d8b-8cf9-37b401e443bf",
   "metadata": {},
   "outputs": [],
   "source": [
    "!pip install symbolfit"
   ]
  },
  {
   "cell_type": "markdown",
   "id": "4fcad479-1273-4cff-b606-809f3cecd56b",
   "metadata": {},
   "source": [
    "Then import PySR, which will install dependencies at first import (can take a few mins):"
   ]
  },
  {
   "cell_type": "code",
   "execution_count": null,
   "id": "925e1c89-5fcb-4fc2-ade6-d2c38556588f",
   "metadata": {},
   "outputs": [],
   "source": [
    "import pysr"
   ]
  },
  {
   "cell_type": "markdown",
   "id": "447e7b4c-0eed-437b-b4e5-4d95f0db72ea",
   "metadata": {},
   "source": [
    "After installation, import all other packages:"
   ]
  },
  {
   "cell_type": "code",
   "execution_count": null,
   "id": "9462ec00-220c-4c09-96d2-3bc595fce26a",
   "metadata": {},
   "outputs": [],
   "source": [
    "from symbolfit.symbolfit import *\n",
    "from pysr import PySRRegressor"
   ]
  },
  {
   "cell_type": "markdown",
   "id": "edcde99b-d1b4-46dc-a7fc-690e6b49d0c9",
   "metadata": {},
   "source": [
    "# A simple 1D dataset"
   ]
  },
  {
   "cell_type": "markdown",
   "id": "d2d1cb3b-3c4c-4e55-9f85-863b4c0668ac",
   "metadata": {},
   "source": [
    "Five inputs are needed, which can be python lists or numpy arrays:\n",
    "\n",
    "1. ``x``: independent variable (bin center).\n",
    "\n",
    "2. ``y``: dependent variable.\n",
    "\n",
    "3. ``y_up``: upward uncertainty in y per bin.\n",
    "\n",
    "4. ``y_down``: downward uncertainty in y per bin.\n",
    "\n",
    "5. ``bin_widths_1d``: bin widths for x."
   ]
  },
  {
   "cell_type": "markdown",
   "id": "b953bfac-36ad-4adc-bde1-056771b34719",
   "metadata": {},
   "source": [
    "- Elements in both y_up and y_down should be non-negative values.\n",
    "- These values are the \"delta\" in y,\n",
    "  - y + y_up = y shifted up by one standard deviation,\n",
    "  - y - y_down = y shifted down by one standard deviation.\n",
    "- If no uncertainty in the dataset, one can set y_up and y_down to ones with the same shape as x."
   ]
  },
  {
   "cell_type": "code",
   "execution_count": null,
   "id": "4e3bdb88-7c30-4886-8d3c-dda66a1fb47d",
   "metadata": {},
   "outputs": [],
   "source": [
    "# A simple 1D binned data.\n",
    "x = [0.5, 1, 1.5, 2, 2.5, 3, 3.5, 4, 4.5]\n",
    "y = [3, 2.8, 2.7, 2.7, 2.8, 2.6, 2.1, 1.7, 1]\n",
    "y_up = [0.1, 0.1, 0.1, 0.1, 0.1, 0.1, 0.1, 0.1, 0.05]\n",
    "y_down = [0.1, 0.1, 0.1, 0.1, 0.1, 0.1, 0.1, 0.1, 0.05]\n",
    "bin_widths_1d = [0.5, 0.5, 0.5, 0.5, 0.5, 0.5, 0.5, 0.5, 0.5]"
   ]
  },
  {
   "cell_type": "markdown",
   "id": "037e5cee-6eea-4cce-a54b-4cc4e6037d47",
   "metadata": {},
   "source": [
    "Plot the dataset to see what we will be fitting to:"
   ]
  },
  {
   "cell_type": "code",
   "execution_count": null,
   "id": "e8449a78-82fe-4b61-a4e7-5ff70bd0264a",
   "metadata": {},
   "outputs": [],
   "source": [
    "fig, axes = plt.subplots(figsize = (6, 4))\n",
    "plt.errorbar(np.array(x).flatten(),\n",
    "             np.array(y).flatten(),\n",
    "             yerr = [np.array(y_down).flatten(), np.array(y_up).flatten()],\n",
    "             xerr = np.array(bin_widths_1d)/2,\n",
    "             fmt = '.', c = 'black', ecolor = 'grey', capsize = 0,\n",
    "            )"
   ]
  },
  {
   "cell_type": "markdown",
   "id": "dedad467-cad1-4c1c-94d6-92670f6af102",
   "metadata": {},
   "source": [
    "## Configure the fit"
   ]
  },
  {
   "cell_type": "markdown",
   "id": "60bddee3-0bb0-4e14-bc7a-670acaec32bc",
   "metadata": {},
   "source": [
    "### Configure PySR to define the function space being searched for with symbolic regression"
   ]
  },
  {
   "cell_type": "code",
   "execution_count": null,
   "id": "60003a15-d69c-4834-84e9-249db009721a",
   "metadata": {},
   "outputs": [],
   "source": [
    "pysr_config = PySRRegressor(\n",
    "    model_selection = 'accuracy',\n",
    "    niterations = 100,\n",
    "    maxsize = 40,\n",
    "    binary_operators = [\n",
    "        '+', '*', '/', '^'\n",
    "                     ],\n",
    "    unary_operators = [\n",
    "        'exp',\n",
    "        'tanh',\n",
    "    ],\n",
    "    nested_constraints = {\n",
    "        'exp':    {'exp': 0, 'tanh': 0, '*': 2, '/': 1, '^': 1},\n",
    "        'tanh':   {'exp': 0, 'tanh': 0, '*': 2, '/': 1, '^': 1},\n",
    "        '*':      {'exp': 1, 'tanh': 1, '*': 2, '/': 1, '^': 1},\n",
    "        '^':      {'exp': 1, 'tanh': 1, '*': 2, '/': 1, '^': 0},\n",
    "        '/':      {'exp': 1, 'tanh': 1, '*': 2, '/': 0, '^': 1},\n",
    "    },\n",
    "    loss='loss(y, y_pred, weights) = (y - y_pred)^2 * weights',\n",
    ")"
   ]
  },
  {
   "cell_type": "markdown",
   "id": "a9352fd2-92ca-45a4-98d2-718e17a4e488",
   "metadata": {},
   "source": [
    "Here, we allow four binary operators (+, *, /, pow) and two unary operators (exp, tanh) when searching for functional forms.\n",
    "\n",
    "Nested constraints are imposed to prohibit, e.g., exp(exp(x))...\n",
    "\n",
    "Loss function is a weighted MSE, where the weight is the sqaured uncertainty by default in SymbolFit."
   ]
  },
  {
   "cell_type": "markdown",
   "id": "551ce1af-e9a2-4836-9434-ade92c387e7a",
   "metadata": {},
   "source": [
    "For PySR options, please see:\n",
    "- https://github.com/MilesCranmer/PySR\n",
    "- https://astroautomata.com/PySR/"
   ]
  },
  {
   "cell_type": "markdown",
   "id": "ad993a58-e41a-42f3-ab57-316192d9d7b4",
   "metadata": {},
   "source": [
    "### Configure SymbolFit with the PySR config and for the re-optimization process"
   ]
  },
  {
   "cell_type": "code",
   "execution_count": null,
   "id": "023271da-ad42-4201-b9bf-7094337a24ea",
   "metadata": {},
   "outputs": [],
   "source": [
    "model = SymbolFit(\n",
    "    # Dataset: x, y, y_up, y_down.\n",
    "    x = x,\n",
    "    y = y,\n",
    "    y_up = y_up,\n",
    "    y_down = y_down,\n",
    "    # PySR configuration of function space.\n",
    "    pysr_config = pysr_config,\n",
    "    # Constrain the maximum function size and over-write maxsize in pysr_config.\n",
    "    max_complexity = 25,\n",
    "    # Whether to scale input x to be within 0 and 1 during fits for stability, as large x could lead to overflow.\n",
    "    input_rescale = False,\n",
    "    # Whether to scale y during fits for stability (when input_rescale is True): None / 'mean' / 'max' / 'l2'.\n",
    "    scale_y_by = None,\n",
    "    # Set a maximum standard error (%) for all parameters to avoid bad fits during re-optimization (will re-parameterize and re-fit with fewer parameters when too large errors).\n",
    "    max_stderr = 20,\n",
    "    # Consider y_up and y_down to weight the MSE loss during SR search and re-optimization.\n",
    "    fit_y_unc = True,\n",
    "    # Set a random seed for returning the same batch of functional forms every time (single-threaded), otherwise set None to explore more functions every time.\n",
    "    random_seed = 12345,\n",
    "    # Custome loss weight to replace y_up and y_down.\n",
    "    loss_weights = None\n",
    ")"
   ]
  },
  {
   "cell_type": "markdown",
   "id": "a86749e2-ee8c-4f71-a1f1-8de1a19b70c5",
   "metadata": {},
   "source": [
    "## Symbol fit it!"
   ]
  },
  {
   "cell_type": "markdown",
   "id": "cdd36852-b9d5-406c-8f74-29e2c805a8ac",
   "metadata": {},
   "source": [
    "Run the fit: SR fit for functional forms -> parameterization -> re-optimization fit for improved best-fits and uncertainty estimation -> evaluation."
   ]
  },
  {
   "cell_type": "code",
   "execution_count": null,
   "id": "f80e9e6c-28c0-4205-accc-6f9713e62daa",
   "metadata": {},
   "outputs": [],
   "source": [
    "model.fit()"
   ]
  },
  {
   "cell_type": "markdown",
   "id": "dc2d9ef8-6149-4860-bc4b-8ebf75611912",
   "metadata": {},
   "source": [
    "## Save results to output files"
   ]
  },
  {
   "cell_type": "markdown",
   "id": "01671d87-880a-4991-83a9-98804bc31235",
   "metadata": {},
   "source": [
    "Save results to csv tables:\n",
    "\n",
    "- ``candidates.csv``: saves all candidate functions and evaluations in a csv table.\n",
    "- ``candidates_reduced.csv``: saves a reduced version for essential information without intermediate results."
   ]
  },
  {
   "cell_type": "code",
   "execution_count": null,
   "id": "50cbadb2-e6a5-46f7-b848-7dd0a415e4c4",
   "metadata": {},
   "outputs": [],
   "source": [
    "model.save_to_csv(output_dir = 'output_dir/')"
   ]
  },
  {
   "cell_type": "markdown",
   "id": "8e9a0e81-9535-4e00-9335-0c55592b2c42",
   "metadata": {},
   "source": [
    "Plot results to pdf files:\n",
    "\n",
    "- ``candidates.pdf``: plots all candidate functions with associated uncertainties one by one for fit quality evaluation.\n",
    "- ``candidates_sampling.pdf``: plots all candidate functions with total uncertainty coverage generated by sampling parameters.\n",
    "- ``candidates_gof.pdf``: plots the goodness-of-fit scores.\n",
    "- ``candidates_correlation.pdf``: plots the correlation matrices for the parameters of the candidate functions."
   ]
  },
  {
   "cell_type": "code",
   "execution_count": null,
   "id": "d38df9ef-b7df-4c8e-90f3-bc2a33c78f7e",
   "metadata": {},
   "outputs": [],
   "source": [
    "model.plot_to_pdf(\n",
    "    output_dir = 'output_dir/',\n",
    "    bin_widths_1d = bin_widths_1d,\n",
    "    #bin_edges_2d = bin_edges_2d,\n",
    "    plot_logy = False,\n",
    "    plot_logx = False,\n",
    "    sampling_95quantile = False\n",
    ")"
   ]
  },
  {
   "cell_type": "markdown",
   "id": "d2314e9a-b8f7-4850-9223-d1f21aca4298",
   "metadata": {},
   "source": [
    "Download ``output_dir`` from the tab on the left and see the results!"
   ]
  },
  {
   "cell_type": "markdown",
   "id": "5de3b6ac-5362-4998-8563-bff59cc4cab8",
   "metadata": {},
   "source": [
    "# A simple 2D dataset"
   ]
  },
  {
   "cell_type": "code",
   "execution_count": null,
   "id": "5670ee7d-f058-41fc-9515-d0695a61550e",
   "metadata": {},
   "outputs": [],
   "source": []
  }
 ],
 "metadata": {
  "kernelspec": {
   "display_name": "Python 3 (ipykernel)",
   "language": "python",
   "name": "python3"
  },
  "language_info": {
   "codemirror_mode": {
    "name": "ipython",
    "version": 3
   },
   "file_extension": ".py",
   "mimetype": "text/x-python",
   "name": "python",
   "nbconvert_exporter": "python",
   "pygments_lexer": "ipython3",
   "version": "3.9.20"
  }
 },
 "nbformat": 4,
 "nbformat_minor": 5
}
