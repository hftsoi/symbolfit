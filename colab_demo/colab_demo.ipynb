{
 "cells": [
  {
   "cell_type": "markdown",
   "id": "73bbc540-4d98-4f3e-9d75-a2c258a064c3",
   "metadata": {},
   "source": [
    "# Environment setup"
   ]
  },
  {
   "cell_type": "markdown",
   "id": "81ea6b1c-aab6-4c39-92db-88ea501b22b7",
   "metadata": {},
   "source": [
    "Install symbolfit via pip:"
   ]
  },
  {
   "cell_type": "code",
   "execution_count": null,
   "id": "098d09a1-5094-4d8b-8cf9-37b401e443bf",
   "metadata": {},
   "outputs": [],
   "source": [
    "!pip install symbolfit"
   ]
  },
  {
   "cell_type": "markdown",
   "id": "4fcad479-1273-4cff-b606-809f3cecd56b",
   "metadata": {},
   "source": [
    "Restart kernel after installation.\n",
    "\n",
    "Then import PySR, which will install dependencies at first import:"
   ]
  },
  {
   "cell_type": "code",
   "execution_count": null,
   "id": "925e1c89-5fcb-4fc2-ade6-d2c38556588f",
   "metadata": {},
   "outputs": [],
   "source": [
    "import pysr"
   ]
  },
  {
   "cell_type": "code",
   "execution_count": null,
   "id": "9462ec00-220c-4c09-96d2-3bc595fce26a",
   "metadata": {},
   "outputs": [],
   "source": [
    "from symbolfit.symbolfit import *\n",
    "from pysr import PySRRegressor"
   ]
  },
  {
   "cell_type": "markdown",
   "id": "edcde99b-d1b4-46dc-a7fc-690e6b49d0c9",
   "metadata": {},
   "source": [
    "# Create example dataset"
   ]
  },
  {
   "cell_type": "code",
   "execution_count": null,
   "id": "4e3bdb88-7c30-4886-8d3c-dda66a1fb47d",
   "metadata": {},
   "outputs": [],
   "source": [
    "x=[0.5, 1, 1.5, 2, 2.5, 3, 3.5, 4, 4.5]\n",
    "y=[3, 2.8, 2.7, 2.7, 2.8, 2.6, 2.1, 1.7, 1]\n",
    "y_up=[0.1, 0.1, 0.1, 0.1, 0.1, 0.1, 0.1, 0.1, 0.05]\n",
    "y_down=[0.1, 0.1, 0.1, 0.1, 0.1, 0.1, 0.1, 0.1, 0.05]\n",
    "bin_widths_1d=[0.5, 0.5, 0.5, 0.5, 0.5, 0.5, 0.5, 0.5, 0.5]"
   ]
  },
  {
   "cell_type": "markdown",
   "id": "dedad467-cad1-4c1c-94d6-92670f6af102",
   "metadata": {},
   "source": [
    "# Configure fit"
   ]
  },
  {
   "cell_type": "markdown",
   "id": "60bddee3-0bb0-4e14-bc7a-670acaec32bc",
   "metadata": {},
   "source": [
    "1. Configure PySR for functional form search with symbolic regression:"
   ]
  },
  {
   "cell_type": "code",
   "execution_count": null,
   "id": "60003a15-d69c-4834-84e9-249db009721a",
   "metadata": {},
   "outputs": [],
   "source": [
    "pysr_config = PySRRegressor(\n",
    "    model_selection = 'accuracy',\n",
    "    niterations = 100,\n",
    "    maxsize = 40,\n",
    "    binary_operators = [\n",
    "        '+', '*', '/', '^'\n",
    "                     ],\n",
    "    unary_operators = [\n",
    "        'exp',\n",
    "        'tanh',\n",
    "    ],\n",
    "    nested_constraints = {\n",
    "        'exp':    {'exp': 0, 'tanh': 0, '*': 2, '/': 1, '^': 1},\n",
    "        'tanh':   {'exp': 0, 'tanh': 0, '*': 2, '/': 1, '^': 1},\n",
    "        '*':      {'exp': 1, 'tanh': 1, '*': 2, '/': 1, '^': 1},\n",
    "        '^':      {'exp': 1, 'tanh': 1, '*': 2, '/': 1, '^': 0},\n",
    "        '/':      {'exp': 1, 'tanh': 1, '*': 2, '/': 0, '^': 1},\n",
    "    },\n",
    "    loss='loss(y, y_pred, weights) = (y - y_pred)^2 * weights',\n",
    ")"
   ]
  },
  {
   "cell_type": "markdown",
   "id": "ad993a58-e41a-42f3-ab57-316192d9d7b4",
   "metadata": {},
   "source": [
    "2. Configure SymbolFit for PySR search and re-optimization:"
   ]
  },
  {
   "cell_type": "code",
   "execution_count": null,
   "id": "023271da-ad42-4201-b9bf-7094337a24ea",
   "metadata": {},
   "outputs": [],
   "source": [
    "model = SymbolFit(\n",
    "    x = x,\n",
    "    y = y,\n",
    "    y_up = y_up,\n",
    "    y_down = y_down,\n",
    "    pysr_config = pysr_config,\n",
    "    max_complexity = 20,\n",
    "    input_rescale = False,\n",
    "    scale_y_by = None,\n",
    "    max_stderr = 20,\n",
    "    fit_y_unc = True,\n",
    "    random_seed = 12345,\n",
    "    loss_weights = None\n",
    ")"
   ]
  },
  {
   "cell_type": "markdown",
   "id": "a86749e2-ee8c-4f71-a1f1-8de1a19b70c5",
   "metadata": {},
   "source": [
    "# Symbol fit it!"
   ]
  },
  {
   "cell_type": "code",
   "execution_count": null,
   "id": "f80e9e6c-28c0-4205-accc-6f9713e62daa",
   "metadata": {},
   "outputs": [],
   "source": [
    "model.fit()"
   ]
  },
  {
   "cell_type": "markdown",
   "id": "dc2d9ef8-6149-4860-bc4b-8ebf75611912",
   "metadata": {},
   "source": [
    "# Save results to output files"
   ]
  },
  {
   "cell_type": "code",
   "execution_count": null,
   "id": "50cbadb2-e6a5-46f7-b848-7dd0a415e4c4",
   "metadata": {},
   "outputs": [],
   "source": [
    "model.save_to_csv(output_dir = 'output_dir/')"
   ]
  },
  {
   "cell_type": "code",
   "execution_count": null,
   "id": "d38df9ef-b7df-4c8e-90f3-bc2a33c78f7e",
   "metadata": {},
   "outputs": [],
   "source": [
    "model.plot_to_pdf(\n",
    "    output_dir = 'output_dir/',\n",
    "    bin_widths_1d = bin_widths_1d,\n",
    "    #bin_edges_2d = bin_edges_2d,\n",
    "    plot_logy = False,\n",
    "    plot_logx = False,\n",
    "    sampling_95quantile = False\n",
    ")"
   ]
  }
 ],
 "metadata": {
  "kernelspec": {
   "display_name": "Python 3 (ipykernel)",
   "language": "python",
   "name": "python3"
  },
  "language_info": {
   "codemirror_mode": {
    "name": "ipython",
    "version": 3
   },
   "file_extension": ".py",
   "mimetype": "text/x-python",
   "name": "python",
   "nbconvert_exporter": "python",
   "pygments_lexer": "ipython3",
   "version": "3.9.20"
  }
 },
 "nbformat": 4,
 "nbformat_minor": 5
}
