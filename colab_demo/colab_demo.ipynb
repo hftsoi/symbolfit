{
 "cells": [
  {
   "cell_type": "code",
   "execution_count": null,
   "id": "098d09a1-5094-4d8b-8cf9-37b401e443bf",
   "metadata": {},
   "outputs": [],
   "source": [
    "!pip install symbolfit"
   ]
  },
  {
   "cell_type": "code",
   "execution_count": null,
   "id": "4e3bdb88-7c30-4886-8d3c-dda66a1fb47d",
   "metadata": {},
   "outputs": [],
   "source": [
    "x=[0.5, 1, 1.5, 2, 2.5, 3, 3.5, 4, 4.5]\n",
    "y=[3, 2.8, 2.7, 2.7, 2.8, 2.6, 2.1, 1.7, 1]\n",
    "y_up=[0.1, 0.1, 0.1, 0.1, 0.1, 0.1, 0.1, 0.1, 0.05]\n",
    "y_down=[0.1, 0.1, 0.1, 0.1, 0.1, 0.1, 0.1, 0.1, 0.05]\n",
    "bin_widths_1d=[0.5, 0.5, 0.5, 0.5, 0.5, 0.5, 0.5, 0.5, 0.5]"
   ]
  },
  {
   "cell_type": "code",
   "execution_count": null,
   "id": "60003a15-d69c-4834-84e9-249db009721a",
   "metadata": {},
   "outputs": [],
   "source": [
    "from pysr import PySRRegressor\n",
    "\n",
    "pysr_config = PySRRegressor(\n",
    "    model_selection = 'accuracy',\n",
    "    niterations = 100,\n",
    "    maxsize = 40,\n",
    "    binary_operators = [\n",
    "        '+', '*', '/', '^'\n",
    "                     ],\n",
    "    unary_operators = [\n",
    "        'exp',\n",
    "        'tanh',\n",
    "    ],\n",
    "    nested_constraints = {\n",
    "        'exp':    {'exp': 0, 'tanh': 0, '*': 2, '/': 1, '^': 1},\n",
    "        'tanh':   {'exp': 0, 'tanh': 0, '*': 2, '/': 1, '^': 1},\n",
    "        '*':      {'exp': 1, 'tanh': 1, '*': 2, '/': 1, '^': 1},\n",
    "        '^':      {'exp': 1, 'tanh': 1, '*': 2, '/': 1, '^': 0},\n",
    "        '/':      {'exp': 1, 'tanh': 1, '*': 2, '/': 0, '^': 1},\n",
    "    },\n",
    "    loss='loss(y, y_pred, weights) = (y - y_pred)^2 * weights',\n",
    ")"
   ]
  },
  {
   "cell_type": "code",
   "execution_count": null,
   "id": "023271da-ad42-4201-b9bf-7094337a24ea",
   "metadata": {},
   "outputs": [],
   "source": [
    "from symbolfit.symbolfit import *\n",
    "\n",
    "model = SymbolFit(\n",
    "    x = x,\n",
    "    y = y,\n",
    "    y_up = y_up,\n",
    "    y_down = y_down,\n",
    "    pysr_config = pysr_config,\n",
    "    max_complexity = 20,\n",
    "    input_rescale = False,\n",
    "    scale_y_by = None,\n",
    "    max_stderr = 20,\n",
    "    fit_y_unc = True,\n",
    "    random_seed = 12345,\n",
    "    loss_weights = None\n",
    ")"
   ]
  },
  {
   "cell_type": "code",
   "execution_count": null,
   "id": "f80e9e6c-28c0-4205-accc-6f9713e62daa",
   "metadata": {},
   "outputs": [],
   "source": [
    "model.fit()"
   ]
  },
  {
   "cell_type": "code",
   "execution_count": null,
   "id": "50cbadb2-e6a5-46f7-b848-7dd0a415e4c4",
   "metadata": {},
   "outputs": [],
   "source": [
    "model.save_to_csv(output_dir = 'output_dir/')"
   ]
  },
  {
   "cell_type": "code",
   "execution_count": null,
   "id": "d38df9ef-b7df-4c8e-90f3-bc2a33c78f7e",
   "metadata": {},
   "outputs": [],
   "source": [
    "model.plot_to_pdf(\n",
    "    output_dir = 'output_dir/',\n",
    "    bin_widths_1d = bin_widths_1d,\n",
    "    #bin_edges_2d = bin_edges_2d,\n",
    "    plot_logy = False,\n",
    "    plot_logx = False,\n",
    "    sampling_95quantile = False\n",
    ")"
   ]
  }
 ],
 "metadata": {
  "kernelspec": {
   "display_name": "Python 3 (ipykernel)",
   "language": "python",
   "name": "python3"
  },
  "language_info": {
   "codemirror_mode": {
    "name": "ipython",
    "version": 3
   },
   "file_extension": ".py",
   "mimetype": "text/x-python",
   "name": "python",
   "nbconvert_exporter": "python",
   "pygments_lexer": "ipython3",
   "version": "3.9.20"
  }
 },
 "nbformat": 4,
 "nbformat_minor": 5
}
