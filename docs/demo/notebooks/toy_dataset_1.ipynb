{
 "cells": [
  {
   "cell_type": "code",
   "execution_count": null,
   "id": "2eb555c2-8163-4fe3-8546-3454b651e865",
   "metadata": {},
   "outputs": [],
   "source": [
    "from symbolfit.symbolfit import *"
   ]
  },
  {
   "cell_type": "markdown",
   "id": "66906c16-9eb8-43ff-aa4d-29a5ea50d033",
   "metadata": {},
   "source": [
    "# Dataset"
   ]
  },
  {
   "cell_type": "markdown",
   "id": "1bbc1b76-6d40-48d4-9dde-6cb56052d1e0",
   "metadata": {},
   "source": [
    "Five inputs are needed, which can be python lists or numpy arrays:\n",
    "1. ``x``: independent variable (bin center values).\n",
    "2. ``y``: dependent variable.\n",
    "3. ``y_up``: upward uncertainty in y per bin.\n",
    "4. ``y_down``: downward uncertainty in y per bin.\n",
    "5. ``bin_widths_1d`` bin widths for x.\n",
    "\n",
    "- Elements in both y_up and y_down should be non-negative values.\n",
    "- These values are the \"delta\" in y,\n",
    "  - y + y_up = y shifted up by one standard deviation.\n",
    "  - y - y_down = y shifted down by one standard deviation.\n",
    "- If no uncertainty in the dataset, one can set y_up and y_down to ones with the same shape as x."
   ]
  },
  {
   "cell_type": "code",
   "execution_count": null,
   "id": "95ae43f4-d947-4c53-a133-73b163369e3d",
   "metadata": {},
   "outputs": [],
   "source": [
    "x = [12.5, 37.5, 62.5, 87.5, 112.5, 137.5, 162.5, 187.5, 212.5, 237.5, 262.5, 287.5, 312.5, 337.5, 362.5, 387.5, 412.5, 437.5, 462.5, 487.5]\n",
    "y = [10.234884262084961, 122.1119384765625, 338.9125061035156, 810.2549438476562, 649.0571899414062, 351.8170166015625, 248.619873046875, 186.88763427734375, 141.754150390625, 103.42931365966797, 78.36450958251953, 60.3994255065918, 49.005863189697266, 33.54744338989258, 27.76025390625, 25.299283981323242, 19.729631423950195, 14.033162117004395, 15.06820011138916, 9.641764640808105]\n",
    "y_up = [3.199200566092248, 11.050427072134475, 18.409576478113657, 28.464977495997715, 25.476600831771226, 18.756785881423355, 15.767684454189048, 13.670685216087149, 11.906055198537633, 10.170020337229811, 8.852373104570296, 7.771706730608908, 7.000418786736781, 5.7920154859852175, 5.268800044246317, 5.029839359395411, 4.441804973650936, 3.746086239931536, 3.8817779575072504, 3.105119102515732]\n",
    "y_down = [3.199200566092248, 11.050427072134475, 18.409576478113657, 28.464977495997715, 25.476600831771226, 18.756785881423355, 15.767684454189048, 13.670685216087149, 11.906055198537633, 10.170020337229811, 8.852373104570296, 7.771706730608908, 7.000418786736781, 5.7920154859852175, 5.268800044246317, 5.029839359395411, 4.441804973650936, 3.746086239931536, 3.8817779575072504, 3.105119102515732]\n",
    "bin_widths_1d = [25, 25, 25, 25, 25, 25, 25, 25, 25, 25, 25, 25, 25, 25, 25, 25, 25, 25, 25, 25]"
   ]
  },
  {
   "cell_type": "markdown",
   "id": "2c819ddd-a45e-4bb9-915e-19718576b0eb",
   "metadata": {},
   "source": [
    "Plot the dataset to see what we will be fitting to:"
   ]
  },
  {
   "cell_type": "code",
   "execution_count": null,
   "id": "ee24eb08-6d27-49ec-8221-383219ae5229",
   "metadata": {},
   "outputs": [],
   "source": [
    "fig, axes = plt.subplots(figsize = (6, 4))\n",
    "plt.errorbar(np.array(x).flatten(),\n",
    "             np.array(y).flatten(),\n",
    "             yerr = [np.array(y_down).flatten(), np.array(y_up).flatten()],\n",
    "             xerr = np.array(bin_widths_1d)/2,\n",
    "             fmt = '.', c = 'black', ecolor = 'grey', capsize = 0,\n",
    "            )"
   ]
  },
  {
   "cell_type": "markdown",
   "id": "8c27af64-6c06-40b7-97ca-8b55d8fab279",
   "metadata": {},
   "source": [
    "# Configure the fit"
   ]
  },
  {
   "cell_type": "markdown",
   "id": "28c4e18d-adc4-4f41-bace-96138f09a128",
   "metadata": {},
   "source": [
    "## Configure PySR to define the function space being searched for with symbolic regression"
   ]
  },
  {
   "cell_type": "code",
   "execution_count": null,
   "id": "f3415459-b989-4cbe-8472-3fe2ae77f9be",
   "metadata": {},
   "outputs": [],
   "source": [
    "from pysr import PySRRegressor\n",
    "import sympy\n",
    "\n",
    "pysr_config = PySRRegressor(\n",
    "    model_selection = 'accuracy',\n",
    "    niterations = 200,\n",
    "    maxsize = 60,\n",
    "    binary_operators = [\n",
    "        '+', '*'\n",
    "                     ],\n",
    "    unary_operators = [\n",
    "        'exp',\n",
    "        'gauss(x) = exp(-x*x)',\n",
    "        'tanh',\n",
    "    ],\n",
    "    nested_constraints = {\n",
    "        'tanh':   {'tanh': 0, 'exp': 0, 'gauss': 0, '*': 2},\n",
    "        'exp':    {'tanh': 0, 'exp': 0, 'gauss': 0, '*': 2},\n",
    "        'gauss':  {'tanh': 0, 'exp': 0, 'gauss': 0, '*': 2},\n",
    "        '*':      {'tanh': 1, 'exp': 1, 'gauss': 1, '*': 2},\n",
    "    },\n",
    "    extra_sympy_mappings={\n",
    "        'gauss': lambda x: sympy.exp(-x*x),\n",
    "                         },\n",
    "    loss='loss(y, y_pred, weights) = (y - y_pred)^2 * weights',\n",
    ")"
   ]
  },
  {
   "cell_type": "markdown",
   "id": "ed837443-a0fc-4227-9ea9-350c898a96b2",
   "metadata": {},
   "source": [
    "Here, we allow two binary operators (+, *) and three unary operators (exp, gauss, tanh) when searching for functional forms.\n",
    "\n",
    "Nested constraints are imposed to prohibit, e.g., exp(exp(x))...\n",
    "\n",
    "Loss function is a weighted MSE, where the weight is the sqaured uncertainty by default in SymbolFit.\n",
    "\n",
    "For PySR options, please see:\n",
    "- https://github.com/MilesCranmer/PySR\n",
    "- https://astroautomata.com/PySR/"
   ]
  },
  {
   "cell_type": "markdown",
   "id": "c904493f-a36c-4b84-bc09-5fdad6e0f6d3",
   "metadata": {},
   "source": [
    "## Configure SymbolFit with the PySR config and for the re-optimization process"
   ]
  },
  {
   "cell_type": "code",
   "execution_count": null,
   "id": "a61d9307-8b17-42dc-9915-3a4d0f7d1c51",
   "metadata": {},
   "outputs": [],
   "source": [
    "model = SymbolFit(\n",
    "        # Dataset: x, y, y_up, y_down.\n",
    "    \tx = x,\n",
    "    \ty = y,\n",
    "    \ty_up = y_up,\n",
    "    \ty_down = y_down,\n",
    "        # PySR configuration of function space.\n",
    "    \tpysr_config = pysr_config,\n",
    "        # Constrain the maximum function size and over-write maxsize in pysr_config.\n",
    "    \tmax_complexity = 60,\n",
    "        # Whether to scale input x to be within 0 and 1 during fits for stability, as large x could lead to overflow.\n",
    "    \tinput_rescale = True,\n",
    "        # Whether to scale y during fits for stability (when input_rescale is True): None / 'mean' / 'max' / 'l2'.\n",
    "    \tscale_y_by = 'mean',\n",
    "        # Set a maximum standard error (%) for all parameters to avoid bad fits during re-optimization (will re-parameterize and re-fit with fewer parameters when too large errors).\n",
    "    \tmax_stderr = 20,\n",
    "        # Consider y_up and y_down to weight the MSE loss during SR search and re-optimization.\n",
    "    \tfit_y_unc = True,\n",
    "        # Set a random seed for returning the same batch of functional forms every time (single-threaded), otherwise set None to explore more functions every time.\n",
    "    \trandom_seed = None,\n",
    "        # Custome loss weight to replace y_up and y_down.\n",
    "    \tloss_weights = None\n",
    ")"
   ]
  },
  {
   "cell_type": "markdown",
   "id": "150c9085-9eea-4fe4-9b3c-3ab1b2d727f9",
   "metadata": {},
   "source": [
    "# Symbol Fit it!"
   ]
  },
  {
   "cell_type": "markdown",
   "id": "31867aec-575b-40fe-aa4f-7e4b6ebeffc3",
   "metadata": {},
   "source": [
    "Run the fit: SR fit for functional forms -> parameterization -> re-optimization fit for improved best-fits and uncertainty estimation -> evaluation."
   ]
  },
  {
   "cell_type": "code",
   "execution_count": null,
   "id": "473996da-005b-451c-a452-c1449fa8ca04",
   "metadata": {},
   "outputs": [],
   "source": [
    "model.fit()"
   ]
  },
  {
   "cell_type": "markdown",
   "id": "b23a91aa-2272-4b6d-8862-f0fa8fc96ae4",
   "metadata": {},
   "source": [
    "## Save results to output files"
   ]
  },
  {
   "cell_type": "markdown",
   "id": "75b09236-4174-4e45-812d-5646ee872729",
   "metadata": {},
   "source": [
    "Save results to csv tables:\n",
    "- ``candidates.csv``: saves all candidate functions and evaluations in a csv table.\n",
    "- ``candidates_reduced.csv``: saves a reduced version for essential information without intermediate results."
   ]
  },
  {
   "cell_type": "code",
   "execution_count": null,
   "id": "014cd1d2-0b50-431d-9a47-3b356de10d14",
   "metadata": {},
   "outputs": [],
   "source": [
    "model.save_to_csv(output_dir = 'output_dir/')"
   ]
  },
  {
   "cell_type": "markdown",
   "id": "645acdb2-bee0-4394-98a5-5bc0d008baba",
   "metadata": {},
   "source": [
    "Plot results to pdf files:\n",
    "- ``candidates.pdf``: plots all candidate functions with associated uncertainties one by one for fit quality evaluation.\n",
    "- ``candidates_sampling.pdf``: plots all candidate functions with total uncertainty coverage generated by sampling parameters.\n",
    "- ``candidates_gof.pdf``: plots the goodness-of-fit scores.\n",
    "- ``candidates_correlation.pdf``: plots the correlation matrices for the parameters of the candidate functions."
   ]
  },
  {
   "cell_type": "code",
   "execution_count": null,
   "id": "cd1b926b-6942-4e5c-8b32-1570be622800",
   "metadata": {},
   "outputs": [],
   "source": [
    "model.plot_to_pdf(\n",
    "    \toutput_dir = 'output_dir/',\n",
    "    \tbin_widths_1d = bin_widths_1d,\n",
    "    \t#bin_edges_2d = bin_edges_2d,\n",
    "    \tplot_logy = False,\n",
    "    \tplot_logx = False,\n",
    "        sampling_95quantile = False\n",
    ")"
   ]
  }
 ],
 "metadata": {
  "kernelspec": {
   "display_name": "Python 3 (ipykernel)",
   "language": "python",
   "name": "python3"
  },
  "language_info": {
   "codemirror_mode": {
    "name": "ipython",
    "version": 3
   },
   "file_extension": ".py",
   "mimetype": "text/x-python",
   "name": "python",
   "nbconvert_exporter": "python",
   "pygments_lexer": "ipython3",
   "version": "3.9.20"
  }
 },
 "nbformat": 4,
 "nbformat_minor": 5
}
