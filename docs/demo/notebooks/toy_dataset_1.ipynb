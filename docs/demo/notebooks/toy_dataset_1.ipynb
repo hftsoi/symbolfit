{
 "cells": [
  {
   "cell_type": "code",
   "execution_count": null,
   "id": "95ae43f4-d947-4c53-a133-73b163369e3d",
   "metadata": {},
   "outputs": [],
   "source": [
    "x = [12.5, 37.5, 62.5, 87.5, 112.5, 137.5, 162.5, 187.5, 212.5, 237.5, 262.5, 287.5, 312.5, 337.5, 362.5, 387.5, 412.5, 437.5, 462.5, 487.5]\n",
    "y = [10.234884262084961, 122.1119384765625, 338.9125061035156, 810.2549438476562, 649.0571899414062, 351.8170166015625, 248.619873046875, 186.88763427734375, 141.754150390625, 103.42931365966797, 78.36450958251953, 60.3994255065918, 49.005863189697266, 33.54744338989258, 27.76025390625, 25.299283981323242, 19.729631423950195, 14.033162117004395, 15.06820011138916, 9.641764640808105]\n",
    "y_up = [3.199200566092248, 11.050427072134475, 18.409576478113657, 28.464977495997715, 25.476600831771226, 18.756785881423355, 15.767684454189048, 13.670685216087149, 11.906055198537633, 10.170020337229811, 8.852373104570296, 7.771706730608908, 7.000418786736781, 5.7920154859852175, 5.268800044246317, 5.029839359395411, 4.441804973650936, 3.746086239931536, 3.8817779575072504, 3.105119102515732]\n",
    "y_down = [3.199200566092248, 11.050427072134475, 18.409576478113657, 28.464977495997715, 25.476600831771226, 18.756785881423355, 15.767684454189048, 13.670685216087149, 11.906055198537633, 10.170020337229811, 8.852373104570296, 7.771706730608908, 7.000418786736781, 5.7920154859852175, 5.268800044246317, 5.029839359395411, 4.441804973650936, 3.746086239931536, 3.8817779575072504, 3.105119102515732]\n",
    "bin_widths_1d = [25, 25, 25, 25, 25, 25, 25, 25, 25, 25, 25, 25, 25, 25, 25, 25, 25, 25, 25, 25]"
   ]
  },
  {
   "cell_type": "code",
   "execution_count": null,
   "id": "f3415459-b989-4cbe-8472-3fe2ae77f9be",
   "metadata": {},
   "outputs": [],
   "source": [
    "from pysr import PySRRegressor\n",
    "import sympy\n",
    "\n",
    "pysr_config = PySRRegressor(\n",
    "    model_selection = 'accuracy',\n",
    "    niterations = 200,\n",
    "    maxsize = 60,\n",
    "    binary_operators = [\n",
    "        '+', '*'\n",
    "                     ],\n",
    "    unary_operators = [\n",
    "        'exp',\n",
    "        'gauss(x) = exp(-x*x)',\n",
    "        'tanh',\n",
    "    ],\n",
    "    nested_constraints = {\n",
    "        'tanh':   {'tanh': 0, 'exp': 0, 'gauss': 0, '*': 2},\n",
    "        'exp':    {'tanh': 0, 'exp': 0, 'gauss': 0, '*': 2},\n",
    "        'gauss':  {'tanh': 0, 'exp': 0, 'gauss': 0, '*': 2},\n",
    "        '*':      {'tanh': 1, 'exp': 1, 'gauss': 1, '*': 2},\n",
    "    },\n",
    "    extra_sympy_mappings={\n",
    "        'gauss': lambda x: sympy.exp(-x*x),\n",
    "                         },\n",
    "    loss='loss(y, y_pred, weights) = (y - y_pred)^2 * weights',\n",
    ")"
   ]
  },
  {
   "cell_type": "code",
   "execution_count": null,
   "id": "a61d9307-8b17-42dc-9915-3a4d0f7d1c51",
   "metadata": {},
   "outputs": [],
   "source": [
    "from symbolfit.symbolfit import *\n",
    "\n",
    "model = SymbolFit(\n",
    "    \tx = x,\n",
    "    \ty = y,\n",
    "    \ty_up = y_up,\n",
    "    \ty_down = y_down,\n",
    "    \tpysr_config = pysr_config,\n",
    "    \tmax_complexity = 60,\n",
    "    \tinput_rescale = True,\n",
    "    \tscale_y_by = 'mean',\n",
    "    \tmax_stderr = 20,\n",
    "    \tfit_y_unc = True,\n",
    "    \trandom_seed = None,\n",
    "    \tloss_weights = None\n",
    ")\n",
    "\n",
    "model.fit()"
   ]
  },
  {
   "cell_type": "code",
   "execution_count": null,
   "id": "014cd1d2-0b50-431d-9a47-3b356de10d14",
   "metadata": {},
   "outputs": [],
   "source": [
    "model.save_to_csv(output_dir = 'toy_dataset_1/')"
   ]
  },
  {
   "cell_type": "code",
   "execution_count": null,
   "id": "cd1b926b-6942-4e5c-8b32-1570be622800",
   "metadata": {},
   "outputs": [],
   "source": [
    "model.plot_to_pdf(\n",
    "    \toutput_dir = 'toy_dataset_1/',\n",
    "    \tbin_widths_1d = bin_widths_1d,\n",
    "    \t#bin_edges_2d = bin_edges_2d,\n",
    "    \tplot_logy = False,\n",
    "    \tplot_logx = False,\n",
    "        sampling_95quantile = False\n",
    ")"
   ]
  },
  {
   "cell_type": "code",
   "execution_count": null,
   "id": "c243c219-799e-49f2-a6ce-812203375189",
   "metadata": {},
   "outputs": [],
   "source": []
  }
 ],
 "metadata": {
  "kernelspec": {
   "display_name": "Python 3 (ipykernel)",
   "language": "python",
   "name": "python3"
  },
  "language_info": {
   "codemirror_mode": {
    "name": "ipython",
    "version": 3
   },
   "file_extension": ".py",
   "mimetype": "text/x-python",
   "name": "python",
   "nbconvert_exporter": "python",
   "pygments_lexer": "ipython3",
   "version": "3.9.20"
  }
 },
 "nbformat": 4,
 "nbformat_minor": 5
}
