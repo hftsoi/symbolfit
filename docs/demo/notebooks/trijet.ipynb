{
 "cells": [
  {
   "cell_type": "code",
   "execution_count": null,
   "id": "95ae43f4-d947-4c53-a133-73b163369e3d",
   "metadata": {},
   "outputs": [],
   "source": [
    "'''\n",
    "CMS search for trijet resonances at sqrt(s) = 13 TeV\n",
    "    https://arxiv.org/abs/2310.14023\n",
    "    https://doi.org/10.1103/PhysRevLett.133.011801\n",
    "\n",
    "Invariant mass spectra of trijet events (Figure 1), public data taken from HEPDATA\n",
    "    https://www.hepdata.net/record/ins2713513\n",
    "'''\n",
    "\n",
    "x=[1794.0, 1863.5, 1935.5, 2009.5, 2085.5, 2163.5, 2243.5, 2325.5, 2409.5, 2495.5, 2583.5, 2673.5, 2766.0, 2861.0, 2958.0, 3057.5, 3159.5, 3264.0, 3371.0, 3480.5, 3592.5, 3707.0, 3824.5, 3945.0, 4068.0, 4193.5, 4322.0, 4453.5, 4588.0, 4726.0, 4867.5, 5012.0, 5160.0, 5311.5, 5466.0, 5624.0, 5786.0, 5951.5, 6120.5, 6293.5, 6470.5, 6651.5, 6836.5, 7025.5, 7219.0]\n",
    "\n",
    "y=[231784.0, 188875.0, 149875.0, 119619.0, 94933.0, 75791.0, 60420.0, 47741.0, 37905.0, 29733.0, 23696.0, 18854.0, 14937.0, 11535.0, 9181.0, 7277.0, 5669.0, 4493.0, 3535.0, 2863.0, 2146.0, 1601.0, 1310.0, 1066.0, 780.0, 585.0, 465.0, 335.0, 233.0, 186.0, 152.0, 93.0, 91.0, 66.0, 50.0, 25.0, 29.0, 16.0, 13.0, 12.0, 4.0, 2.0, 2.0, 2.0, 1.0]\n",
    "\n",
    "y_up=[482.44, 435.598, 388.138, 346.861, 309.113, 276.303, 246.806, 219.499, 195.694, 173.435, 154.937, 138.312, 123.22, 108.404, 96.821, 86.3092, 76.2972, 68.0348, 60.4615, 54.5132, 47.3321, 41.0208, 37.2031, 33.6599, 28.9404, 25.2006, 22.5793, 19.3212, 16.2862, 14.6626, 13.3559, 10.6782, 10.5744, 9.16509, 8.11822, 6.06659, 6.44702, 5.08307, 4.69757, 4.55982, 3.16275, 2.63786, 2.63786, 2.63786, 2.29953]\n",
    "\n",
    "y_down=[481.439, 434.597, 387.136, 345.859, 308.111, 275.301, 245.804, 218.496, 194.691, 172.432, 153.934, 137.309, 122.216, 107.4, 95.8158, 85.3034, 75.2905, 67.0274, 59.4531, 53.5039, 46.3213, 40.0083, 36.1893, 32.6445, 27.9225, 24.1799, 21.5561, 18.2939, 15.2534, 13.6259, 12.3153, 9.62628, 9.52183, 8.1034, 7.04734, 4.96633, 5.35393, 3.9578, 3.55866, 3.41527, 1.91434, 1.29181, 1.29181, 1.29181, 0.827246]\n",
    " \n",
    "bin_widths_1d=[68.0, 71.0, 73.0, 75.0, 77.0, 79.0, 81.0, 83.0, 85.0, 87.0, 89.0, 91.0, 94.0, 96.0, 98.0, 101.0, 103.0, 106.0, 108.0, 111.0, 113.0, 116.0, 119.0, 122.0, 124.0, 127.0, 130.0, 133.0, 136.0, 140.0, 143.0, 146.0, 150.0, 153.0, 156.0, 160.0, 164.0, 167.0, 171.0, 175.0, 179.0, 183.0, 187.0, 191.0, 196.0]"
   ]
  },
  {
   "cell_type": "code",
   "execution_count": null,
   "id": "f3415459-b989-4cbe-8472-3fe2ae77f9be",
   "metadata": {},
   "outputs": [],
   "source": [
    "from pysr import PySRRegressor\n",
    "\n",
    "pysr_config = PySRRegressor(\n",
    "    model_selection = 'accuracy',\n",
    "    niterations = 200,\n",
    "    maxsize = 80,\n",
    "    binary_operators = [\n",
    "        '+', '*', '/', '^'\n",
    "                     ],\n",
    "    unary_operators = [\n",
    "        'exp',\n",
    "        'tanh',\n",
    "    ],\n",
    "    nested_constraints = {\n",
    "        'exp':    {'exp': 0, 'tanh': 0, '*': 2, '/': 1, '^': 1},\n",
    "        'tanh':   {'exp': 0, 'tanh': 0, '*': 2, '/': 1, '^': 1},\n",
    "        '*':      {'exp': 1, 'tanh': 1, '*': 2, '/': 1, '^': 1},\n",
    "        '^':      {'exp': 1, 'tanh': 1, '*': 2, '/': 1, '^': 0},\n",
    "        '/':      {'exp': 1, 'tanh': 1, '*': 2, '/': 0, '^': 1},\n",
    "    },\n",
    "    loss='loss(y, y_pred, weights) = (y - y_pred)^2 * weights',\n",
    ")"
   ]
  },
  {
   "cell_type": "code",
   "execution_count": null,
   "id": "a61d9307-8b17-42dc-9915-3a4d0f7d1c51",
   "metadata": {},
   "outputs": [],
   "source": [
    "from symbolfit.symbolfit import *\n",
    "\n",
    "model = SymbolFit(\n",
    "        x = x,\n",
    "        y = y,\n",
    "        y_up = y_up,\n",
    "        y_down = y_down,\n",
    "        pysr_config = pysr_config,\n",
    "        max_complexity = 80,\n",
    "        input_rescale = True,\n",
    "        scale_y_by = 'mean',\n",
    "        max_stderr = 20,\n",
    "        fit_y_unc = True,\n",
    "        random_seed = seed,\n",
    "        loss_weights = None\n",
    ")\n",
    "\n",
    "model.fit()"
   ]
  },
  {
   "cell_type": "code",
   "execution_count": null,
   "id": "014cd1d2-0b50-431d-9a47-3b356de10d14",
   "metadata": {},
   "outputs": [],
   "source": [
    "model.save_to_csv(output_dir = 'trijet/')"
   ]
  },
  {
   "cell_type": "code",
   "execution_count": null,
   "id": "cd1b926b-6942-4e5c-8b32-1570be622800",
   "metadata": {},
   "outputs": [],
   "source": [
    "model.plot_to_pdf(\n",
    "    \toutput_dir = 'trijet/',\n",
    "    \tbin_widths_1d = bin_widths_1d,\n",
    "    \t#bin_edges_2d = bin_edges_2d,\n",
    "    \tplot_logy = True,\n",
    "    \tplot_logx = True,\n",
    "        sampling_95quantile = False\n",
    ")"
   ]
  },
  {
   "cell_type": "code",
   "execution_count": null,
   "id": "c243c219-799e-49f2-a6ce-812203375189",
   "metadata": {},
   "outputs": [],
   "source": []
  }
 ],
 "metadata": {
  "kernelspec": {
   "display_name": "Python 3 (ipykernel)",
   "language": "python",
   "name": "python3"
  },
  "language_info": {
   "codemirror_mode": {
    "name": "ipython",
    "version": 3
   },
   "file_extension": ".py",
   "mimetype": "text/x-python",
   "name": "python",
   "nbconvert_exporter": "python",
   "pygments_lexer": "ipython3",
   "version": "3.9.20"
  }
 },
 "nbformat": 4,
 "nbformat_minor": 5
}
