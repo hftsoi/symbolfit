{
 "cells": [
  {
   "cell_type": "code",
   "execution_count": 1,
   "id": "2eb555c2-8163-4fe3-8546-3454b651e865",
   "metadata": {},
   "outputs": [
    {
     "name": "stdout",
     "output_type": "stream",
     "text": [
      "Detected IPython. Loading juliacall extension. See https://juliapy.github.io/PythonCall.jl/stable/compat/#IPython\n"
     ]
    }
   ],
   "source": [
    "from symbolfit.symbolfit import *"
   ]
  },
  {
   "cell_type": "markdown",
   "id": "66906c16-9eb8-43ff-aa4d-29a5ea50d033",
   "metadata": {},
   "source": [
    "# Dataset"
   ]
  },
  {
   "cell_type": "markdown",
   "id": "1bbc1b76-6d40-48d4-9dde-6cb56052d1e0",
   "metadata": {},
   "source": [
    "Five inputs are needed, which can be python lists or numpy arrays (more options will be added in future!):\n",
    "1. ``x``: independent variable (bin center location).\n",
    "2. ``y``: dependent variable.\n",
    "3. ``y_up``: upward uncertainty in y per bin.\n",
    "4. ``y_down``: downward uncertainty in y per bin.\n",
    "5. ``bin_widths_1d`` bin widths in x.\n",
    "- Elements in both y_up and y_down should be non-negative values.\n",
    "- These values are the \"delta\" in y,\n",
    "  - y + y_up = y shifted up by one standard deviation.\n",
    "  - y - y_down = y shifted down by one standard deviation.\n",
    "- If no uncertainty in the dataset, one can set both y_up and y_down to ones with the same shape as x."
   ]
  },
  {
   "cell_type": "code",
   "execution_count": 2,
   "id": "95ae43f4-d947-4c53-a133-73b163369e3d",
   "metadata": {},
   "outputs": [],
   "source": [
    "x = [0.5, 1, 1.5, 2, 2.5, 3, 3.5, 4, 4.5]\n",
    "y = [3.0, 2.2, 2.1, 2.05, 2, 2.1, 2.2, 1.9, 1.6]\n",
    "y_up = [0.4, 0.3, 0.2, 0.2, 0.1, 0.05, 0.06, 0.1, 0.1]\n",
    "y_down = [0.4, 0.3, 0.2, 0.2, 0.1, 0.05, 0.06, 0.1, 0.1]\n",
    "bin_widths_1d = [0.5, 0.5, 0.5, 0.5, 0.5, 0.5, 0.5, 0.5, 0.5]"
   ]
  },
  {
   "cell_type": "markdown",
   "id": "2c819ddd-a45e-4bb9-915e-19718576b0eb",
   "metadata": {},
   "source": [
    "Plot the dataset to see what we will be fitting to:"
   ]
  },
  {
   "cell_type": "code",
   "execution_count": 3,
   "id": "ee24eb08-6d27-49ec-8221-383219ae5229",
   "metadata": {},
   "outputs": [
    {
     "data": {
      "image/png": "[encoded data removed]",
      "text/plain": [
       "<Figure size 600x400 with 1 Axes>"
      ]
     },
     "metadata": {},
     "output_type": "display_data"
    }
   ],
   "source": [
    "fig, axes = plt.subplots(figsize = (6, 4))\n",
    "plt.errorbar(np.array(x).flatten(),\n",
    "             np.array(y).flatten(),\n",
    "             yerr = [np.array(y_down).flatten(), np.array(y_up).flatten()],\n",
    "             xerr = np.array(bin_widths_1d)/2,\n",
    "             fmt = '.', c = 'black', ecolor = 'grey', capsize = 0,\n",
    "            )\n",
    "plt.savefig('img/toy2a/dataset.png')"
   ]
  },
  {
   "cell_type": "markdown",
   "id": "8c27af64-6c06-40b7-97ca-8b55d8fab279",
   "metadata": {},
   "source": [
    "# Configure the fit"
   ]
  },
  {
   "cell_type": "markdown",
   "id": "28c4e18d-adc4-4f41-bace-96138f09a128",
   "metadata": {},
   "source": [
    "Configure PySR to define the function space being searched for with symbolic regression:"
   ]
  },
  {
   "cell_type": "code",
   "execution_count": 4,
   "id": "f3415459-b989-4cbe-8472-3fe2ae77f9be",
   "metadata": {},
   "outputs": [],
   "source": [
    "from pysr import PySRRegressor\n",
    "\n",
    "pysr_config = PySRRegressor(\n",
    "    model_selection = 'accuracy',\n",
    "    niterations = 200,\n",
    "    maxsize = 80,\n",
    "    binary_operators = [\n",
    "        '+', '*', '/', '^'\n",
    "                     ],\n",
    "    unary_operators = [\n",
    "        'exp',\n",
    "        'tanh',\n",
    "    ],\n",
    "    nested_constraints = {\n",
    "        'exp':    {'exp': 0, 'tanh': 0, '*': 2, '/': 1, '^': 1},\n",
    "        'tanh':   {'exp': 0, 'tanh': 0, '*': 2, '/': 1, '^': 1},\n",
    "        '*':      {'exp': 1, 'tanh': 1, '*': 2, '/': 1, '^': 1},\n",
    "        '^':      {'exp': 1, 'tanh': 1, '*': 2, '/': 1, '^': 0},\n",
    "        '/':      {'exp': 1, 'tanh': 1, '*': 2, '/': 0, '^': 1},\n",
    "    },\n",
    "    loss='loss(y, y_pred, weights) = (y - y_pred)^2 * weights',\n",
    ")"
   ]
  },
  {
   "cell_type": "markdown",
   "id": "ed837443-a0fc-4227-9ea9-350c898a96b2",
   "metadata": {},
   "source": [
    "Here, we allow four binary operators (+, *, /, pow) and two unary operators (exp, tanh) when searching for functional forms.\n",
    "The custom-defined gauss in the previous example may not be needed here since it this dataset is not obvious with a peak.\n",
    "\n",
    "Nested constraints are imposed to prohibit, e.g., exp(exp(x))...\n",
    "\n",
    "Loss function is a weighted MSE, where the weight is the sqaured uncertainty by default in SymbolFit.\n",
    "\n",
    "For PySR options, please see:\n",
    "- https://github.com/MilesCranmer/PySR\n",
    "- https://astroautomata.com/PySR/"
   ]
  },
  {
   "cell_type": "markdown",
   "id": "c904493f-a36c-4b84-bc09-5fdad6e0f6d3",
   "metadata": {},
   "source": [
    "Configure SymbolFit with the PySR config and for the re-optimization process:"
   ]
  },
  {
   "cell_type": "code",
   "execution_count": 5,
   "id": "a61d9307-8b17-42dc-9915-3a4d0f7d1c51",
   "metadata": {},
   "outputs": [],
   "source": [
    "model = SymbolFit(\n",
    "        # Dataset: x, y, y_up, y_down.\n",
    "    \tx = x,\n",
    "    \ty = y,\n",
    "    \ty_up = y_up,\n",
    "    \ty_down = y_down,\n",
    "    \n",
    "        # PySR configuration of the function space.\n",
    "    \tpysr_config = pysr_config,\n",
    "    \n",
    "        # Constrain the maximum function size and over-write maxsize in pysr_config.\n",
    "        # Set a higher value for more complex shape, or when the lower one does not fit well.\n",
    "    \tmax_complexity = 30,\n",
    "    \n",
    "        # Whether to scale input x to be within 0 and 1 for the fits for numerical stability,\n",
    "        # as large x could lead to overflow when there is e.g. exp(x) -> exp(10000).\n",
    "        # So set this to False when your x's are or close to O(1), otherwise recommended to set True.\n",
    "        # After the fits, the functions will be unscaled to relect the original dataset.\n",
    "    \tinput_rescale = False,\n",
    "        # ^ no scaling needed here since the input x is O(1).\n",
    "    \n",
    "        # Whether to scale y for the fits for numerical stability,\n",
    "        # options are (when input_rescale is True): None / 'mean' / 'max' / 'l2'.\n",
    "        # This is useful to stabilize fits when your y's are very large or very small.\n",
    "        # After the fits, the functions will be unscaled to relect the original dataset.\n",
    "    \tscale_y_by = None,\n",
    "        # ^ no scaling needed here since the input y is O(1).\n",
    "    \n",
    "        # Set a maximum standard error (%) for all parameters to avoid bad fits during re-optimization.\n",
    "        # In the refit loop, when any of the parameters returns a standard error larger than max_stderr,\n",
    "        # the fit is considered failed, and the fit will retry itself for fewer or other combination of varying parameters,\n",
    "        # by freezing some of the parameters to their initial values and kept fixed during re-optimization.\n",
    "        # This is to avoid bad fits when the objective is too complex to minimize, which could cause some parameters\n",
    "        # to have unrealistically large standard errors.\n",
    "        # In most cases 10 < max_stderr < 100 suffices.\n",
    "    \tmax_stderr = 20,\n",
    "    \n",
    "        # Consider y_up and y_down to weight the MSE loss during SR search and re-optimization.\n",
    "    \tfit_y_unc = True,\n",
    "    \n",
    "        # Set a random seed for returning the same batch of functional forms every time (single-threaded),\n",
    "        # otherwise set None to explore more functions every time (multi-threaded and faster).\n",
    "        # In most cases the function space is huge, one can retry the fits with the exact same fit configuration\n",
    "        # and get completely different sets of candidate functions, merely by using different random seeds.\n",
    "        # So if the candidate functions are not satisfactory this time, rerun it few times more with\n",
    "        # random_seed = None or a different seed each time.\n",
    "    \trandom_seed = None,\n",
    "    \n",
    "        # Custome loss weight to set \"(y - y_pred)^2 * loss_weights\", overwriting that with y_up and y_down.\n",
    "    \tloss_weights = None\n",
    ")"
   ]
  },
  {
   "cell_type": "markdown",
   "id": "150c9085-9eea-4fe4-9b3c-3ab1b2d727f9",
   "metadata": {},
   "source": [
    "# Symbol Fit it!"
   ]
  },
  {
   "cell_type": "markdown",
   "id": "31867aec-575b-40fe-aa4f-7e4b6ebeffc3",
   "metadata": {},
   "source": [
    "Run the fits: SR fit for functional form searching -> parameterization -> re-optimization fit for improved best-fits and uncertainty estimation -> evaluation."
   ]
  },
  {
   "cell_type": "code",
   "execution_count": 6,
   "id": "473996da-005b-451c-a452-c1449fa8ca04",
   "metadata": {},
   "outputs": [
    {
     "name": "stdout",
     "output_type": "stream",
     "text": [
      "Compiling Julia backend...\n"
     ]
    },
    {
     "name": "stderr",
     "output_type": "stream",
     "text": [
      "[ Info: Started!\n"
     ]
    },
    {
     "name": "stdout",
     "output_type": "stream",
     "text": [
      "\n",
      "Expressions evaluated per second: 7.180e+05\n",
      "Head worker occupation: 16.4%\n",
      "Progress: 1457 / 3000 total iterations (48.567%)\n",
      "====================================================================================================\n",
      "Hall of Fame:\n",
      "---------------------------------------------------------------------------------------------------\n",
      "Complexity  Loss       Score     Equation\n",
      "1           1.752e-01  1.594e+01  y = 1.68\n",
      "2           3.437e-02  1.629e+00  y = exp(0.72041)\n",
      "5           2.267e-02  1.387e-01  y = (-0.15192 * x₀) + 2.5457\n",
      "6           1.478e-02  4.280e-01  y = 2.2524 + (exp(x₀) * -0.0061958)\n",
      "7           1.043e-02  3.484e-01  y = (-0.00062681 * (x₀ ^ x₀)) + 2.1433\n",
      "8           1.021e-02  2.138e-02  y = (-5.2253e-07 * (exp(x₀) ^ 3.0764)) + 2.1265\n",
      "10          1.016e-02  2.503e-03  y = tanh(-2.9879e-05 * ((x₀ + x₀) ^ x₀)) + 2.1267\n",
      "11          7.875e-03  2.548e-01  y = (2.1336 + (-0.00061524 * (x₀ ^ x₀))) + (0.13061 ^ x₀)\n",
      "12          7.452e-03  5.516e-02  y = (2.1165 + (-5.0177e-07 * (exp(x₀) ^ 3.0805))) + (0.15228 ^...\n",
      "                                   x₀)\n",
      "13          6.008e-03  2.153e-01  y = (2.1336 + (-0.00061524 * (x₀ ^ x₀))) + ((0.013848 ^ x₀) / ...\n",
      "                                  0.13724)\n",
      "14          5.845e-03  2.759e-02  y = ((-5.0177e-07 * (exp(x₀) ^ 3.0805)) + 2.1165) + ((0.14706 ...\n",
      "                                  ^ x₀) / x₀)\n",
      "15          5.702e-03  2.468e-02  y = ((0.47413 / x₀) ^ 3.1654) + ((-3.4388e-07 * (exp(x₀) ^ 3.1...\n",
      "                                  654)) + exp(0.74782))\n",
      "16          5.567e-03  2.404e-02  y = ((0.45735 / x₀) ^ exp(x₀)) + ((-3.445e-07 * (exp(x₀) ^ 3.1...\n",
      "                                  654)) + exp(0.75035))\n",
      "17          5.551e-03  2.948e-03  y = ((0.45735 / x₀) ^ (3.172 * x₀)) + (((exp(x₀) ^ 3.172) * -3...\n",
      "                                  .3335e-07) + exp(0.75035))\n",
      "18          5.549e-03  3.421e-04  y = ((0.42627 / x₀) ^ (exp(x₀) * x₀)) + (exp(0.75035) + (-3.44...\n",
      "                                  5e-07 * (exp(x₀) ^ 3.1654)))\n",
      "19          3.413e-03  4.859e-01  y = ((x₀ ^ 0.40686) + (exp((0.47803 / x₀) ^ x₀) + ((exp(x₀) ^ ...\n",
      "                                  1.8685) * -0.00019322))) + -0.39961\n",
      "21          3.393e-03  2.935e-03  y = (-0.045569 + ((x₀ ^ 0.38808) + (exp((0.46993 / x₀) ^ x₀) +...\n",
      "                                   ((exp(x₀) ^ 1.8773) * -0.00017942)))) + -0.32154\n",
      "22          3.382e-03  3.239e-03  y = ((x₀ ^ 0.40686) + (exp((0.47803 / (x₀ * 0.95372)) ^ x₀) + ...\n",
      "                                  ((exp(x₀) ^ 1.8685) * tanh(-0.00019322)))) + -0.39961\n",
      "23          3.249e-03  4.024e-02  y = -0.33587 + ((x₀ ^ 0.37768) + (((exp(x₀) ^ 1.7986) * -0.000...\n",
      "                                  25789) + exp(0.95391 / (x₀ + (x₀ ^ (x₀ + x₀))))))\n",
      "24          2.757e-03  1.643e-01  y = (-0.33118 + (((exp(0.41338 ^ x₀) + (exp(x₀) * -0.029169)) ...\n",
      "                                  + (x₀ ^ tanh(-0.54561))) + (x₀ * (0.14758 * x₀)))) + 0.045004\n",
      "26          2.748e-03  1.661e-03  y = (-0.33118 + (((x₀ ^ tanh(-0.54561)) + (exp(0.41338 ^ x₀) +...\n",
      "                                   (exp(x₀) * -0.029169))) + (x₀ * (0.14758 * x₀)))) + (0.045004...\n",
      "                                   * 1.1576)\n",
      "28          2.735e-03  2.299e-03  y = ((((exp(x₀) * -0.029169) + (exp(0.41338 ^ x₀) + 0.20771)) ...\n",
      "                                  + ((x₀ ^ -0.54561) + (-0.12587 / tanh(x₀)))) + (x₀ * (x₀ * 0.1...\n",
      "                                  4758))) + -0.33118\n",
      "29          2.725e-03  3.784e-03  y = -0.40398 + (((exp((0.39274 + 0.36498) / (x₀ + (x₀ ^ -0.497...\n",
      "                                  47))) + (exp(x₀) * -0.029507)) + ((x₀ * 0.84467) ^ -0.75566)) ...\n",
      "                                  + ((x₀ * 0.15314) * x₀))\n",
      "30          2.622e-03  3.847e-02  y = -0.3954 + ((((exp(x₀) * -0.028641) + exp(0.38721 / (x₀ ^ x...\n",
      "                                  ₀))) + ((tanh(x₀ ^ x₀) / x₀) + 0.36897)) + ((x₀ * (x₀ * 0.1544...\n",
      "                                  )) ^ 0.94872))\n",
      "---------------------------------------------------------------------------------------------------\n",
      "====================================================================================================\n",
      "Press 'q' and then <enter> to stop execution early.\n",
      "\n",
      "\n",
      "Checking if pysr_model_temp.pkl exists...\n",
      "Loading model from pysr_model_temp.pkl\n",
      "\n",
      "\n",
      "Re-optimizing parameterized candidate function 1/22...\n",
      "    >>> loop of re-parameterization with less NDF for bad fits 1/2...\n",
      "\n",
      "Re-optimizing parameterized candidate function 2/22...\n",
      "    >>> loop of re-parameterization with less NDF for bad fits 1/2...\n",
      "\n",
      "Re-optimizing parameterized candidate function 3/22...\n",
      "    >>> loop of re-parameterization with less NDF for bad fits 1/2...\n",
      "\n",
      "Re-optimizing parameterized candidate function 4/22...\n",
      "    >>> loop of re-parameterization with less NDF for bad fits 2/4...\n",
      "\n",
      "Re-optimizing parameterized candidate function 5/22...\n",
      "    >>> loop of re-parameterization with less NDF for bad fits 2/4...\n",
      "\n",
      "Re-optimizing parameterized candidate function 6/22...\n",
      "    >>> loop of re-parameterization with less NDF for bad fits 2/4...\n",
      "\n",
      "Re-optimizing parameterized candidate function 7/22...\n",
      "    >>> loop of re-parameterization with less NDF for bad fits 2/8...\n",
      "\n",
      "Re-optimizing parameterized candidate function 8/22...\n",
      "    >>> loop of re-parameterization with less NDF for bad fits 4/8...\n",
      "\n",
      "Re-optimizing parameterized candidate function 9/22...\n",
      "    >>> loop of re-parameterization with less NDF for bad fits 5/8...\n",
      "\n",
      "Re-optimizing parameterized candidate function 10/22...\n",
      "    >>> loop of re-parameterization with less NDF for bad fits 5/8...\n",
      "\n",
      "Re-optimizing parameterized candidate function 11/22...\n",
      "    >>> loop of re-parameterization with less NDF for bad fits 10/16...\n",
      "\n",
      "Re-optimizing parameterized candidate function 12/22...\n",
      "    >>> loop of re-parameterization with less NDF for bad fits 6/16...\n",
      "\n",
      "Re-optimizing parameterized candidate function 13/22...\n",
      "    >>> loop of re-parameterization with less NDF for bad fits 6/16...\n",
      "\n",
      "Re-optimizing parameterized candidate function 14/22...\n",
      "    >>> loop of re-parameterization with less NDF for bad fits 6/16...\n",
      "\n",
      "Re-optimizing parameterized candidate function 15/22...\n",
      "    >>> loop of re-parameterization with less NDF for bad fits 1/8...\n",
      "\n",
      "Re-optimizing parameterized candidate function 16/22...\n",
      "    >>> loop of re-parameterization with less NDF for bad fits 1/8...\n",
      "\n",
      "Re-optimizing parameterized candidate function 17/22...\n",
      "    >>> loop of re-parameterization with less NDF for bad fits 5/16...\n",
      "\n",
      "Re-optimizing parameterized candidate function 18/22...\n",
      "    >>> loop of re-parameterization with less NDF for bad fits 4/16...\n",
      "\n",
      "Re-optimizing parameterized candidate function 19/22...\n",
      "    >>> loop of re-parameterization with less NDF for bad fits 7/32...\n",
      "\n",
      "Re-optimizing parameterized candidate function 20/22...\n",
      "    >>> loop of re-parameterization with less NDF for bad fits 2/32...\n",
      "\n",
      "Re-optimizing parameterized candidate function 21/22...\n",
      "    >>> loop of re-parameterization with less NDF for bad fits 3/32...\n",
      "\n",
      "Re-optimizing parameterized candidate function 22/22...\n",
      "    >>> loop of re-parameterization with less NDF for bad fits 2/32...\n",
      "\n"
     ]
    }
   ],
   "source": [
    "model.fit()"
   ]
  },
  {
   "cell_type": "markdown",
   "id": "b23a91aa-2272-4b6d-8862-f0fa8fc96ae4",
   "metadata": {},
   "source": [
    "## Save results to output files"
   ]
  },
  {
   "cell_type": "markdown",
   "id": "75b09236-4174-4e45-812d-5646ee872729",
   "metadata": {},
   "source": [
    "Save results to csv tables:\n",
    "- ``candidates.csv``: saves all candidate functions and evaluations in a csv table.\n",
    "- ``candidates_reduced.csv``: saves a reduced version for essential information without intermediate results."
   ]
  },
  {
   "cell_type": "code",
   "execution_count": 7,
   "id": "014cd1d2-0b50-431d-9a47-3b356de10d14",
   "metadata": {},
   "outputs": [
    {
     "name": "stdout",
     "output_type": "stream",
     "text": [
      "Saving full results >>> output_Toy_dataset_2a/candidates.csv\n",
      "Saving reduced results >>> output_Toy_dataset_2a/candidates_reduced.csv\n"
     ]
    }
   ],
   "source": [
    "model.save_to_csv(output_dir = 'output_Toy_dataset_2a/')"
   ]
  },
  {
   "cell_type": "markdown",
   "id": "645acdb2-bee0-4394-98a5-5bc0d008baba",
   "metadata": {},
   "source": [
    "Plot results to pdf files:\n",
    "- ``candidates.pdf``: plots all candidate functions with associated uncertainties one by one for fit quality evaluation.\n",
    "- ``candidates_sampling.pdf``: plots all candidate functions with total uncertainty coverage generated by sampling parameters.\n",
    "- ``candidates_gof.pdf``: plots the goodness-of-fit scores.\n",
    "- ``candidates_correlation.pdf``: plots the correlation matrices for the parameters of the candidate functions."
   ]
  },
  {
   "cell_type": "code",
   "execution_count": 8,
   "id": "cd1b926b-6942-4e5c-8b32-1570be622800",
   "metadata": {},
   "outputs": [
    {
     "name": "stdout",
     "output_type": "stream",
     "text": [
      "Plotting candidate functions 22/22 >>> output_Toy_dataset_2a/candidates.pdf\n",
      "Plotting candidate functions (sampling parameters) 22/22 >>> output_Toy_dataset_2a/candidates_sampling.pdf\n",
      "Plotting correlation matrices 22/22 >>> output_Toy_dataset_2a/candidates_correlation.pdf\n",
      "Plotting goodness-of-fit scores >>> output_Toy_dataset_2a/candidates_gof.pdf\n"
     ]
    },
    {
     "data": {
      "image/png": "[encoded data removed]",
      "text/plain": [
       "<Figure size 900x800 with 3 Axes>"
      ]
     },
     "metadata": {},
     "output_type": "display_data"
    },
    {
     "data": {
      "image/png": "[encoded data removed]",
      "text/plain": [
       "<Figure size 900x800 with 3 Axes>"
      ]
     },
     "metadata": {},
     "output_type": "display_data"
    }
   ],
   "source": [
    "model.plot_to_pdf(\n",
    "    \toutput_dir = 'output_Toy_dataset_2a/',\n",
    "    \tbin_widths_1d = bin_widths_1d,\n",
    "    \t#bin_edges_2d = bin_edges_2d,\n",
    "    \tplot_logy = False,\n",
    "    \tplot_logx = False,\n",
    "        sampling_95quantile = False\n",
    ")"
   ]
  }
 ],
 "metadata": {
  "kernelspec": {
   "display_name": "Python 3 (ipykernel)",
   "language": "python",
   "name": "python3"
  },
  "language_info": {
   "codemirror_mode": {
    "name": "ipython",
    "version": 3
   },
   "file_extension": ".py",
   "mimetype": "text/x-python",
   "name": "python",
   "nbconvert_exporter": "python",
   "pygments_lexer": "ipython3",
   "version": "3.9.20"
  }
 },
 "nbformat": 4,
 "nbformat_minor": 5
}
