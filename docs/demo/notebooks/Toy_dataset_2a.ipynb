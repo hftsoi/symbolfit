{
 "cells": [
  {
   "cell_type": "markdown",
   "id": "88b4c9b6-6e92-494e-ad97-bfe7aeaaf6c5",
   "metadata": {},
   "source": [
    "# Toy Dataset 2a"
   ]
  },
  {
   "cell_type": "code",
   "execution_count": null,
   "id": "95ae43f4-d947-4c53-a133-73b163369e3d",
   "metadata": {},
   "outputs": [],
   "source": [
    "x = [0.5, 1, 1.5, 2, 2.5, 3, 3.5, 4, 4.5]\n",
    "y = [3.0, 2.2, 2.1, 2.05, 2, 2.1, 2.2, 1.9, 1.6]\n",
    "y_up = [0.4, 0.3, 0.2, 0.2, 0.1, 0.05, 0.06, 0.1, 0.1]\n",
    "y_down = [0.4, 0.3, 0.2, 0.2, 0.1, 0.05, 0.06, 0.1, 0.1]\n",
    "bin_widths_1d = [0.5, 0.5, 0.5, 0.5, 0.5, 0.5, 0.5, 0.5, 0.5]"
   ]
  },
  {
   "cell_type": "code",
   "execution_count": null,
   "id": "f3415459-b989-4cbe-8472-3fe2ae77f9be",
   "metadata": {},
   "outputs": [],
   "source": [
    "from pysr import PySRRegressor\n",
    "\n",
    "pysr_config = PySRRegressor(\n",
    "    model_selection = 'accuracy',\n",
    "    niterations = 200,\n",
    "    maxsize = 80,\n",
    "    binary_operators = [\n",
    "        '+', '*', '/', '^'\n",
    "                     ],\n",
    "    unary_operators = [\n",
    "        'exp',\n",
    "        'tanh',\n",
    "    ],\n",
    "    nested_constraints = {\n",
    "        'exp':    {'exp': 0, 'tanh': 0, '*': 2, '/': 1, '^': 1},\n",
    "        'tanh':   {'exp': 0, 'tanh': 0, '*': 2, '/': 1, '^': 1},\n",
    "        '*':      {'exp': 1, 'tanh': 1, '*': 2, '/': 1, '^': 1},\n",
    "        '^':      {'exp': 1, 'tanh': 1, '*': 2, '/': 1, '^': 0},\n",
    "        '/':      {'exp': 1, 'tanh': 1, '*': 2, '/': 0, '^': 1},\n",
    "    },\n",
    "    loss='loss(y, y_pred, weights) = (y - y_pred)^2 * weights',\n",
    ")"
   ]
  },
  {
   "cell_type": "code",
   "execution_count": null,
   "id": "a61d9307-8b17-42dc-9915-3a4d0f7d1c51",
   "metadata": {},
   "outputs": [],
   "source": [
    "from symbolfit.symbolfit import *\n",
    "\n",
    "model = SymbolFit(\n",
    "        x = x,\n",
    "        y = y,\n",
    "        y_up = y_up,\n",
    "        y_down = y_down,\n",
    "        pysr_config = pysr_config,\n",
    "        max_complexity = 40,\n",
    "        input_rescale = False,\n",
    "        scale_y_by = None,\n",
    "        max_stderr = 20,\n",
    "        fit_y_unc = True,\n",
    "        random_seed = seed,\n",
    "        loss_weights = None\n",
    ")\n",
    "\n",
    "model.fit()"
   ]
  },
  {
   "cell_type": "code",
   "execution_count": null,
   "id": "014cd1d2-0b50-431d-9a47-3b356de10d14",
   "metadata": {},
   "outputs": [],
   "source": [
    "model.save_to_csv(output_dir = 'toy_dataset_2a/')"
   ]
  },
  {
   "cell_type": "code",
   "execution_count": null,
   "id": "cd1b926b-6942-4e5c-8b32-1570be622800",
   "metadata": {},
   "outputs": [],
   "source": [
    "model.plot_to_pdf(\n",
    "    \toutput_dir = 'toy_dataset_2a/',\n",
    "    \tbin_widths_1d = bin_widths_1d,\n",
    "    \t#bin_edges_2d = bin_edges_2d,\n",
    "    \tplot_logy = False,\n",
    "    \tplot_logx = False,\n",
    "        sampling_95quantile = False\n",
    ")"
   ]
  },
  {
   "cell_type": "code",
   "execution_count": null,
   "id": "c243c219-799e-49f2-a6ce-812203375189",
   "metadata": {},
   "outputs": [],
   "source": []
  },
  {
   "cell_type": "markdown",
   "id": "7e41691a-8945-4719-952a-6f35dabc68a8",
   "metadata": {},
   "source": [
    "# Toy Dataset 2b"
   ]
  },
  {
   "cell_type": "code",
   "execution_count": null,
   "id": "f7bbb46c-6d88-4293-8d2a-bc11e2df5201",
   "metadata": {},
   "outputs": [],
   "source": [
    "x=[0.5, 1, 1.5, 2, 2.5, 3, 3.5, 4, 4.5]\n",
    "\n",
    "y=[3, 2.8, 2.7, 2.7, 2.8, 2.6, 2.1, 1.7, 1]\n",
    "\n",
    "y_up=[0.1, 0.1, 0.1, 0.1, 0.1, 0.1, 0.1, 0.1, 0.05]\n",
    "\n",
    "y_down=[0.1, 0.1, 0.1, 0.1, 0.1, 0.1, 0.1, 0.1, 0.05]\n",
    "\n",
    "bin_widths_1d=[0.5, 0.5, 0.5, 0.5, 0.5, 0.5, 0.5, 0.5, 0.5]"
   ]
  },
  {
   "cell_type": "code",
   "execution_count": null,
   "id": "bd3537de-0f48-4c8c-b3e2-647cc41b0487",
   "metadata": {},
   "outputs": [],
   "source": [
    "from pysr import PySRRegressor\n",
    "\n",
    "pysr_config = PySRRegressor(\n",
    "    model_selection = 'accuracy',\n",
    "    niterations = 200,\n",
    "    maxsize = 80,\n",
    "    binary_operators = [\n",
    "        '+', '*', '/', '^'\n",
    "                     ],\n",
    "    unary_operators = [\n",
    "        'exp',\n",
    "        'tanh',\n",
    "    ],\n",
    "    nested_constraints = {\n",
    "        'exp':    {'exp': 0, 'tanh': 0, '*': 2, '/': 1, '^': 1},\n",
    "        'tanh':   {'exp': 0, 'tanh': 0, '*': 2, '/': 1, '^': 1},\n",
    "        '*':      {'exp': 1, 'tanh': 1, '*': 2, '/': 1, '^': 1},\n",
    "        '^':      {'exp': 1, 'tanh': 1, '*': 2, '/': 1, '^': 0},\n",
    "        '/':      {'exp': 1, 'tanh': 1, '*': 2, '/': 0, '^': 1},\n",
    "    },\n",
    "    loss='loss(y, y_pred, weights) = (y - y_pred)^2 * weights',\n",
    ")"
   ]
  },
  {
   "cell_type": "code",
   "execution_count": null,
   "id": "2cf77210-5932-4c6c-8866-1906ac721b43",
   "metadata": {},
   "outputs": [],
   "source": [
    "from symbolfit.symbolfit import *\n",
    "\n",
    "model = SymbolFit(\n",
    "        x = x,\n",
    "        y = y,\n",
    "        y_up = y_up,\n",
    "        y_down = y_down,\n",
    "        pysr_config = pysr_config,\n",
    "        max_complexity = 40,\n",
    "        input_rescale = False,\n",
    "        scale_y_by = None,\n",
    "        max_stderr = 20,\n",
    "        fit_y_unc = True,\n",
    "        random_seed = seed,\n",
    "        loss_weights = None\n",
    ")\n",
    "\n",
    "model.fit()"
   ]
  },
  {
   "cell_type": "code",
   "execution_count": null,
   "id": "1c6291c9-9faa-439c-af79-eaf81c76b3fd",
   "metadata": {},
   "outputs": [],
   "source": [
    "model.save_to_csv(output_dir = 'toy_dataset_2b/')"
   ]
  },
  {
   "cell_type": "code",
   "execution_count": null,
   "id": "e3813c8b-77c1-4a5c-867d-d91a541568f3",
   "metadata": {},
   "outputs": [],
   "source": [
    "model.plot_to_pdf(\n",
    "    \toutput_dir = 'toy_dataset_2b/',\n",
    "    \tbin_widths_1d = bin_widths_1d,\n",
    "    \t#bin_edges_2d = bin_edges_2d,\n",
    "    \tplot_logy = False,\n",
    "    \tplot_logx = False,\n",
    "        sampling_95quantile = False\n",
    ")"
   ]
  },
  {
   "cell_type": "code",
   "execution_count": null,
   "id": "28e85137-682d-4259-a58d-bcb512d79f94",
   "metadata": {},
   "outputs": [],
   "source": []
  },
  {
   "cell_type": "markdown",
   "id": "ee5ae7ad-c82d-483e-bf64-bd5b341178ea",
   "metadata": {},
   "source": [
    "# Toy Dataset 2c"
   ]
  },
  {
   "cell_type": "code",
   "execution_count": null,
   "id": "180f8ec1-4cb9-4014-9979-fa7a57173ca8",
   "metadata": {},
   "outputs": [],
   "source": [
    "x=[0.5, 1, 1.5, 2, 2.5, 3, 3.5, 4, 4.5, 5, 5.5, 6, 6.5, 7, 7.5, 8, 8.5, 9, 10]\n",
    "\n",
    "y=[0.7, 0.95, 1.04, 1.07, 1.065, 1.06, 1.055, 1.04, 1.02, 1, 0.99, 0.98, 0.985, 0.99, 0.995, 0.997, 1, 1, 1]\n",
    "\n",
    "y_up=[0.05, 0.03, 0.03, 0.02, 0.02, 0.02, 0.01, 0.01, 0.01, 0.01, 0.006, 0.005, 0.005, 0.005, 0.005, 0.005, 0.005, 0.005, 0.005]\n",
    "\n",
    "y_down=[0.05, 0.03, 0.03, 0.02, 0.02, 0.02, 0.02, 0.01, 0.01, 0.01, 0.01, 0.005, 0.005, 0.005, 0.005, 0.005, 0.005, 0.005, 0.005]\n",
    "\n",
    "bin_widths_1d=[0.5, 0.5, 0.5, 0.5, 0.5, 0.5, 0.5, 0.5, 0.5, 0.5, 0.5, 0.5, 0.5, 0.5, 0.5, 0.5, 0.5, 0.5, 1.5]\n"
   ]
  },
  {
   "cell_type": "code",
   "execution_count": null,
   "id": "6a009058-5384-4988-a12b-d6ac1bf7bd44",
   "metadata": {},
   "outputs": [],
   "source": [
    "from pysr import PySRRegressor\n",
    "\n",
    "pysr_config = PySRRegressor(\n",
    "    model_selection = 'accuracy',\n",
    "    niterations = 200,\n",
    "    maxsize = 80,\n",
    "    binary_operators = [\n",
    "        '+', '*', '/', '^'\n",
    "                     ],\n",
    "    unary_operators = [\n",
    "        'exp',\n",
    "        'tanh',\n",
    "    ],\n",
    "    nested_constraints = {\n",
    "        'exp':    {'exp': 0, 'tanh': 0, '*': 2, '/': 1, '^': 1},\n",
    "        'tanh':   {'exp': 0, 'tanh': 0, '*': 2, '/': 1, '^': 1},\n",
    "        '*':      {'exp': 1, 'tanh': 1, '*': 2, '/': 1, '^': 1},\n",
    "        '^':      {'exp': 1, 'tanh': 1, '*': 2, '/': 1, '^': 0},\n",
    "        '/':      {'exp': 1, 'tanh': 1, '*': 2, '/': 0, '^': 1},\n",
    "    },\n",
    "    loss='loss(y, y_pred, weights) = (y - y_pred)^2 * weights',\n",
    ")"
   ]
  },
  {
   "cell_type": "code",
   "execution_count": null,
   "id": "3fc09f89-45a9-43b3-b697-8bc7f642afb3",
   "metadata": {},
   "outputs": [],
   "source": [
    "from symbolfit.symbolfit import *\n",
    "\n",
    "model = SymbolFit(\n",
    "        x = x,\n",
    "        y = y,\n",
    "        y_up = y_up,\n",
    "        y_down = y_down,\n",
    "        pysr_config = pysr_config,\n",
    "        max_complexity = 40,\n",
    "        input_rescale = False,\n",
    "        scale_y_by = None,\n",
    "        max_stderr = 20,\n",
    "        fit_y_unc = True,\n",
    "        random_seed = seed,\n",
    "        loss_weights = None\n",
    ")\n",
    "\n",
    "model.fit()"
   ]
  },
  {
   "cell_type": "code",
   "execution_count": null,
   "id": "308e679d-3e10-43a8-a018-3243abc4971a",
   "metadata": {},
   "outputs": [],
   "source": [
    "model.save_to_csv(output_dir = 'toy_dataset_2c/')"
   ]
  },
  {
   "cell_type": "code",
   "execution_count": null,
   "id": "f045a847-e5df-4f68-97b0-33e064eaf3bb",
   "metadata": {},
   "outputs": [],
   "source": [
    "model.plot_to_pdf(\n",
    "    \toutput_dir = 'toy_dataset_2c/',\n",
    "    \tbin_widths_1d = bin_widths_1d,\n",
    "    \t#bin_edges_2d = bin_edges_2d,\n",
    "    \tplot_logy = False,\n",
    "    \tplot_logx = False,\n",
    "        sampling_95quantile = False\n",
    ")"
   ]
  },
  {
   "cell_type": "code",
   "execution_count": null,
   "id": "721ed6d7-5692-441d-ad87-d94b09e7f978",
   "metadata": {},
   "outputs": [],
   "source": []
  }
 ],
 "metadata": {
  "kernelspec": {
   "display_name": "Python 3 (ipykernel)",
   "language": "python",
   "name": "python3"
  },
  "language_info": {
   "codemirror_mode": {
    "name": "ipython",
    "version": 3
   },
   "file_extension": ".py",
   "mimetype": "text/x-python",
   "name": "python",
   "nbconvert_exporter": "python",
   "pygments_lexer": "ipython3",
   "version": "3.9.20"
  }
 },
 "nbformat": 4,
 "nbformat_minor": 5
}
