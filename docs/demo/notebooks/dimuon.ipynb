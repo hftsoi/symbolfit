{
 "cells": [
  {
   "cell_type": "code",
   "execution_count": null,
   "id": "95ae43f4-d947-4c53-a133-73b163369e3d",
   "metadata": {},
   "outputs": [],
   "source": [
    "'''\n",
    "CMS search for high-mass dimuon resonance produced in association with b quark jets at sqrt(s) = 13 TeV\n",
    "    https://arxiv.org/abs/2307.08708\n",
    "    https://doi.org/10.1007/JHEP10(2023)043\n",
    "\n",
    "Invariant mass spectra of dimuon events in the N_b = 1 category (Figure 4 left), public data taken from HEPDATA\n",
    "    https://www.hepdata.net/record/ins2678141\n",
    "'''\n",
    "\n",
    "x=[397.4, 408.2, 419.0, 429.8, 440.6, 451.4, 462.2, 473.0, 483.8, 494.6, 505.4, 516.2, 527.0, 537.8, 548.6, 559.4, 570.2, 581.0, 591.8, 602.6]\n",
    "\n",
    "y=[10.0, 7.0, 8.0, 10.0, 9.0, 7.0, 3.0, 1.0, 8.0, 5.0, 7.0, 3.0, 2.0, 1.0, 6.0, 2.0, 6.0, 2.0, 4.0, 3.0]\n",
    "\n",
    "y_up=[4.267, 3.7704, 3.9452, 4.267, 4.1103, 3.7704, 2.9182, 2.2996, 3.9452, 3.3825, 3.7704, 2.9182, 2.6379, 2.2996, 3.5837, 2.6379, 3.5837, 2.6379, 3.1628, 2.9182]\n",
    "\n",
    "y_down=[3.1087, 2.5815, 2.7684, 3.1087, 2.9435, 2.5815, 1.6327, 0.82725, 2.7684, 2.1597, 2.5815, 1.6327, 1.2918, 0.82725, 2.38, 1.2918, 2.38, 1.2918, 1.9144, 1.6327]\n",
    " \n",
    "bin_widths_1d=[10.8, 10.8, 10.8, 10.8, 10.8, 10.8, 10.8, 10.8, 10.8, 10.8, 10.8, 10.8, 10.8, 10.8, 10.8, 10.8, 10.8, 10.8, 10.8, 10.8]"
   ]
  },
  {
   "cell_type": "code",
   "execution_count": null,
   "id": "f3415459-b989-4cbe-8472-3fe2ae77f9be",
   "metadata": {},
   "outputs": [],
   "source": [
    "from pysr import PySRRegressor\n",
    "\n",
    "pysr_config = PySRRegressor(\n",
    "    model_selection = 'accuracy',\n",
    "    niterations = 200,\n",
    "    maxsize = 80,\n",
    "    binary_operators = [\n",
    "        '+', '*', '/', '^'\n",
    "                     ],\n",
    "    unary_operators = [\n",
    "        'exp',\n",
    "        'tanh',\n",
    "    ],\n",
    "    nested_constraints = {\n",
    "        'exp':    {'exp': 0, 'tanh': 0, '*': 2, '/': 1, '^': 1},\n",
    "        'tanh':   {'exp': 0, 'tanh': 0, '*': 2, '/': 1, '^': 1},\n",
    "        '*':      {'exp': 1, 'tanh': 1, '*': 2, '/': 1, '^': 1},\n",
    "        '^':      {'exp': 1, 'tanh': 1, '*': 2, '/': 1, '^': 0},\n",
    "        '/':      {'exp': 1, 'tanh': 1, '*': 2, '/': 0, '^': 1},\n",
    "    },\n",
    "    loss='loss(y, y_pred, weights) = (y - y_pred)^2 * weights',\n",
    ")"
   ]
  },
  {
   "cell_type": "code",
   "execution_count": null,
   "id": "a61d9307-8b17-42dc-9915-3a4d0f7d1c51",
   "metadata": {},
   "outputs": [],
   "source": [
    "from symbolfit.symbolfit import *\n",
    "\n",
    "model = SymbolFit(\n",
    "        x = x,\n",
    "        y = y,\n",
    "        y_up = y_up,\n",
    "        y_down = y_down,\n",
    "        pysr_config = pysr_config,\n",
    "        max_complexity = 10,\n",
    "        input_rescale = True,\n",
    "        scale_y_by = None,\n",
    "        max_stderr = 20,\n",
    "        fit_y_unc = True,\n",
    "        random_seed = seed,\n",
    "        loss_weights = None\n",
    ")\n",
    "\n",
    "model.fit()"
   ]
  },
  {
   "cell_type": "code",
   "execution_count": null,
   "id": "014cd1d2-0b50-431d-9a47-3b356de10d14",
   "metadata": {},
   "outputs": [],
   "source": [
    "model.save_to_csv(output_dir = 'dimuon/')"
   ]
  },
  {
   "cell_type": "code",
   "execution_count": null,
   "id": "cd1b926b-6942-4e5c-8b32-1570be622800",
   "metadata": {},
   "outputs": [],
   "source": [
    "model.plot_to_pdf(\n",
    "    \toutput_dir = 'dimuon/',\n",
    "    \tbin_widths_1d = bin_widths_1d,\n",
    "    \t#bin_edges_2d = bin_edges_2d,\n",
    "    \tplot_logy = False,\n",
    "    \tplot_logx = False,\n",
    "        sampling_95quantile = False\n",
    ")"
   ]
  },
  {
   "cell_type": "code",
   "execution_count": null,
   "id": "c243c219-799e-49f2-a6ce-812203375189",
   "metadata": {},
   "outputs": [],
   "source": []
  }
 ],
 "metadata": {
  "kernelspec": {
   "display_name": "Python 3 (ipykernel)",
   "language": "python",
   "name": "python3"
  },
  "language_info": {
   "codemirror_mode": {
    "name": "ipython",
    "version": 3
   },
   "file_extension": ".py",
   "mimetype": "text/x-python",
   "name": "python",
   "nbconvert_exporter": "python",
   "pygments_lexer": "ipython3",
   "version": "3.9.20"
  }
 },
 "nbformat": 4,
 "nbformat_minor": 5
}
