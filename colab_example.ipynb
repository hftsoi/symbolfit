{
 "cells": [
  {
   "cell_type": "code",
   "execution_count": null,
   "id": "098d09a1-5094-4d8b-8cf9-37b401e443bf",
   "metadata": {},
   "outputs": [],
   "source": [
    "!pip install symbolfit"
   ]
  }
 ],
 "metadata": {
  "kernelspec": {
   "display_name": "Python 3 (ipykernel)",
   "language": "python",
   "name": "python3"
  },
  "language_info": {
   "codemirror_mode": {
    "name": "ipython",
    "version": 3
   },
   "file_extension": ".py",
   "mimetype": "text/x-python",
   "name": "python",
   "nbconvert_exporter": "python",
   "pygments_lexer": "ipython3",
   "version": "3.9.20"
  }
 },
 "nbformat": 4,
 "nbformat_minor": 5
}
